{
 "cells": [
  {
   "cell_type": "markdown",
   "metadata": {},
   "source": [
    "# Calibrating Pressure Transducer\n",
    "\n",
    "Because of the large discrepancy between the expected and measured solubility in the analysis performed in 20190422_1cm_v360_co2_in_parr, I performed this experiment to check that the pressure transducer was calibrated properly for reading pressure. To do so, I filled the Parr reactor with a known mass of dry ice (CO2) and measured the pressure and counts read by the Dwyer pressure transducer as the dry ice sublimated. This experiment can also be used as an estimate of leak rate, although based on experience the leak rate varies considerably between experiments depending on how well the Parr reactor is sealed by the user."
   ]
  },
  {
   "cell_type": "code",
   "execution_count": 8,
   "metadata": {},
   "outputs": [],
   "source": [
    "import pandas as pd\n",
    "import numpy as np\n",
    "from scipy.signal import medfilt\n",
    "\n",
    "import solub\n",
    "import plot\n",
    "\n",
    "# user parameters\n",
    "data_file = '../../EXPERIMENTS/co2_p_in_parr/Data/20190424-0425_co2_34-3g.csv'\n",
    "\n",
    "# save parameters\n",
    "save_folder = '../../EXPERIMENTS/co2_p_in_parr/Figures/'\n",
    "\n",
    "# analysis parameters\n",
    "kernel_size = 21 # size of kernel for median filter\n",
    "\n",
    "# plot parameters\n",
    "ax_fs = 16\n",
    "tk_fs = 12\n",
    "t_fs = 20\n",
    "lw = 2\n",
    "ms = 4\n",
    "save_prefix = '20190424_34-3g'\n",
    "title = 'Dry Ice in Parr Reactor'\n",
    "t_units = '(h)'"
   ]
  },
  {
   "cell_type": "markdown",
   "metadata": {},
   "source": [
    "## Load Data"
   ]
  },
  {
   "cell_type": "code",
   "execution_count": 9,
   "metadata": {},
   "outputs": [],
   "source": [
    "# load data\n",
    "data = pd.read_csv(data_file, delimiter=',', header=0)\n",
    "p = data['p (psi)']\n",
    "T = data['T_thermo (C)']\n",
    "counts = data['p (counts)']\n",
    "t = data['t (s)'].values/3600 # s -> h\n",
    "\n",
    "# set negative pressures to zero\n",
    "neg_p = p.values < 0\n",
    "p.values[neg_p] = 0\n",
    "\n",
    "# median filter\n",
    "p = medfilt(p, kernel_size=kernel_size)\n",
    "counts = medfilt(counts, kernel_size=kernel_size)"
   ]
  },
  {
   "cell_type": "markdown",
   "metadata": {},
   "source": [
    "## Plot Data"
   ]
  },
  {
   "cell_type": "code",
   "execution_count": 13,
   "metadata": {},
   "outputs": [
    {
     "data": {
      "text/plain": [
       "<matplotlib.axes._subplots.AxesSubplot at 0x1cf51fda278>"
      ]
     },
     "execution_count": 13,
     "metadata": {},
     "output_type": "execute_result"
    },
    {
     "data": {
      "image/png": "[encoded data removed]",
      "text/plain": [
       "<Figure size 432x288 with 1 Axes>"
      ]
     },
     "metadata": {},
     "output_type": "display_data"
    }
   ],
   "source": [
    "# plot of pressure over entire time\n",
    "save_path = save_folder + save_prefix + '_p_full.pdf'\n",
    "plot.plot_p_vs_t(p, t, save_plot=True, save_path=save_path, p_lim=[780, 805], t_units=t_units,\n",
    "                 title=title)"
   ]
  },
  {
   "cell_type": "markdown",
   "metadata": {},
   "source": [
    "## Compare to theory\n",
    "\n",
    "We estimate that the maximum pressure is the pressure achieved when all the dry ice has sublimated. We compare this value to "
   ]
  },
  {
   "cell_type": "code",
   "execution_count": 16,
   "metadata": {},
   "outputs": [
    {
     "name": "stdout",
     "output_type": "stream",
     "text": [
      "Maximum pressure is 800.0 psi.\n",
      "Predicted pressure based on CO2 equation of state is 766 psi.\n"
     ]
    }
   ],
   "source": [
    "p_max = np.max(p)\n",
    "print(\"Maximum pressure is {p_max} psi.\".format(p_max=p_max))\n",
    "# calculated using EoS at http://peacesoftware.de/einigewerte/co2_e.html\n",
    "print(\"Predicted pressure based on CO2 equation of state is 766 psi.\") "
   ]
  },
  {
   "cell_type": "markdown",
   "metadata": {},
   "source": [
    "## Discussion\n",
    "\n",
    "In this case, the predicted pressure was *lower* than the measured pressure, whereas in the solubility experiment whose analysis was performed on April 22, 2019, the predicted pressure was *higher* than the measured pressure. This is particularly surprising since the pressures are in a similar range (600-700 psi vs. 700-800 psi)."
   ]
  },
  {
   "cell_type": "code",
   "execution_count": null,
   "metadata": {},
   "outputs": [],
   "source": []
  }
 ],
 "metadata": {
  "kernelspec": {
   "display_name": "Python 3",
   "language": "python",
   "name": "python3"
  },
  "language_info": {
   "codemirror_mode": {
    "name": "ipython",
    "version": 3
   },
   "file_extension": ".py",
   "mimetype": "text/x-python",
   "name": "python",
   "nbconvert_exporter": "python",
   "pygments_lexer": "ipython3",
   "version": "3.6.5"
  }
 },
 "nbformat": 4,
 "nbformat_minor": 2
}
