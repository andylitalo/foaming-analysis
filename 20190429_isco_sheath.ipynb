{
 "cells": [
  {
   "cell_type": "markdown",
   "metadata": {},
   "source": [
    "# Sheath Flow with ISCO Pumps\n",
    "\n",
    "## Overview\n",
    "\n",
    "ISCO 100 DM pump supplied blue-dyed glycerol through the inner stream and ISCO 260 D pump supplied glycerol through the outer stream to produce sheath flow in the microfluidic tee-junction device. This device was modified from previous versions after the glass inner capillary broken, having had the inner capillary replaced with a stainless steel inner capillary 2.4 cm long and with 400 um ID.\n",
    "\n",
    "The following code analyzes images of these flows to compute the stream width and compare it to the stream width predicted by the Navier Stokes equations for 1D sheath flow in a cylinder."
   ]
  },
  {
   "cell_type": "code",
   "execution_count": 3,
   "metadata": {},
   "outputs": [],
   "source": [
    "import numpy as np\n",
    "import matplotlib.pyplot as plt\n",
    "\n",
    "import improc\n",
    "\n",
    "# USER PARAMETERS\n"
   ]
  },
  {
   "cell_type": "markdown",
   "metadata": {},
   "source": [
    "## Image Processing\n",
    "\n",
    "We begin by loading the paths of all images we wish to analyze. Next we compute the stream width for each image. Finally we save the data.\n",
    "\n",
    "If the data have already been processed, skip to the **\"Analysis\"** section."
   ]
  },
  {
   "cell_type": "code",
   "execution_count": null,
   "metadata": {},
   "outputs": [],
   "source": [
    "im_path_list = data.get_filepaths(data_folder, im_hdr)\n",
    "df = improc.proc_im_seq(im_path_list, improc.compute_stream_width, columns)\n",
    "df.to_csv(data_save_name, index=False)"
   ]
  },
  {
   "cell_type": "markdown",
   "metadata": {},
   "source": [
    "## Analysis and Discussion\n",
    "\n",
    "We plot the data and compare to predicted stream widths."
   ]
  },
  {
   "cell_type": "markdown",
   "metadata": {},
   "source": [
    "## Conclusion"
   ]
  }
 ],
 "metadata": {
  "kernelspec": {
   "display_name": "Python 3",
   "language": "python",
   "name": "python3"
  },
  "language_info": {
   "codemirror_mode": {
    "name": "ipython",
    "version": 3
   },
   "file_extension": ".py",
   "mimetype": "text/x-python",
   "name": "python",
   "nbconvert_exporter": "python",
   "pygments_lexer": "ipython3",
   "version": "3.6.5"
  }
 },
 "nbformat": 4,
 "nbformat_minor": 2
}
