{
 "cells": [
  {
   "cell_type": "markdown",
   "metadata": {},
   "source": [
    "# Sheath Flow with ISCO Pumps\n",
    "\n",
    "## Overview\n",
    "\n",
    "ISCO 100 DM pump supplied blue-dyed glycerol through the inner stream and ISCO 260 D pump supplied glycerol through the outer stream to produce sheath flow in the microfluidic tee-junction device. This device was modified from previous versions after the glass inner capillary broken, having had the inner capillary replaced with a stainless steel inner capillary 2.4 cm long and with 400 um ID.\n",
    "\n",
    "The following code analyzes images of these flows to compute the stream width and compare it to the stream width predicted by the Navier Stokes equations for 1D sheath flow in a cylinder."
   ]
  },
  {
   "cell_type": "code",
   "execution_count": null,
   "metadata": {},
   "outputs": [],
   "source": [
    "import "
   ]
  }
 ],
 "metadata": {
  "kernelspec": {
   "display_name": "Python 3",
   "language": "python",
   "name": "python3"
  },
  "language_info": {
   "codemirror_mode": {
    "name": "ipython",
    "version": 3
   },
   "file_extension": ".py",
   "mimetype": "text/x-python",
   "name": "python",
   "nbconvert_exporter": "python",
   "pygments_lexer": "ipython3",
   "version": "3.6.5"
  }
 },
 "nbformat": 4,
 "nbformat_minor": 2
}
