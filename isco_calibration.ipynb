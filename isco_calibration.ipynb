{
 "cells": [
  {
   "cell_type": "markdown",
   "metadata": {},
   "source": [
    "# Calibration ISCO Pumps\n",
    "\n",
    "This notebook records and analyzes the data collected to calibrate the width of the inner stream when pumping the inner and outer streams of the microfluidic flow cell with ISCO 100 DM and 260 D pumps, respectively. We will also test the pressure that can be handled by the device\n",
    "\n",
    "## Calibrate inner stream width"
   ]
  },
  {
   "cell_type": "code",
   "execution_count": 1,
   "metadata": {},
   "outputs": [],
   "source": [
    "import numpy as np\n",
    "\n",
    "import flow\n",
    "from importlib import reload\n",
    "reload(flow)\n",
    "\n",
    "### USER PARAMETERS ###\n",
    "# desired radii of the inner stream [um]\n",
    "r_i_arr = np.array([2.5, 5, 10, 15, 20, 25, 50, 75, 100, 125, 150, 200])\n",
    "# pressure drop along observation capillary [bar]\n",
    "dp = 30\n",
    "# viscosity of fluid [Pa.s]\n",
    "eta = 1.412\n"
   ]
  },
  {
   "cell_type": "markdown",
   "metadata": {},
   "source": [
    "### Setup\n",
    "\n",
    "We first calculate the flow rates we should use to produce inner streams of the desired radii at the desired pressure."
   ]
  },
  {
   "cell_type": "code",
   "execution_count": 2,
   "metadata": {},
   "outputs": [
    {
     "name": "stdout",
     "output_type": "stream",
     "text": [
      "r_i = 2 um: Q_i = 0.4 uL/min, Q_o = 1955.1 uL/min\n",
      "r_i = 5 um: Q_i = 1.6 uL/min, Q_o = 1953.9 uL/min\n",
      "r_i = 10 um: Q_i = 6.3 uL/min, Q_o = 1949.2 uL/min\n",
      "r_i = 15 um: Q_i = 14.1 uL/min, Q_o = 1941.4 uL/min\n",
      "r_i = 20 um: Q_i = 25.0 uL/min, Q_o = 1930.5 uL/min\n",
      "r_i = 25 um: Q_i = 38.9 uL/min, Q_o = 1916.6 uL/min\n",
      "r_i = 50 um: Q_i = 153.3 uL/min, Q_o = 1802.2 uL/min\n",
      "r_i = 75 um: Q_i = 336.2 uL/min, Q_o = 1619.3 uL/min\n",
      "r_i = 100 um: Q_i = 575.7 uL/min, Q_o = 1379.8 uL/min\n",
      "r_i = 125 um: Q_i = 855.5 uL/min, Q_o = 1100.0 uL/min\n",
      "r_i = 150 um: Q_i = 1154.5 uL/min, Q_o = 801.0 uL/min\n",
      "r_i = 200 um: Q_i = 1702.1 uL/min, Q_o = 253.4 uL/min\n"
     ]
    }
   ],
   "source": [
    "# initialize arrays to store inner and outer stream flow rates [mL/min]\n",
    "Q_i_arr = np.zeros_like(r_i_arr)\n",
    "Q_o_arr = np.zeros_like(r_i_arr)\n",
    "\n",
    "# calculate flow rates for each desired inner stream radius, given pressures at inlets (so tubing length set to 0)\n",
    "for i in range(len(r_i_arr)):\n",
    "    r_i = r_i_arr[i]\n",
    "    Q_i_arr[i], Q_o_arr[i] = flow.get_flow_rates_ri_dp(eta, r_i, dp)\n",
    "\n",
    "# print flow rates\n",
    "ret = [print(\"r_i = %d um: Q_i = %.1f uL/min, Q_o = %.1f uL/min\" \\\n",
    "             % (r_i_arr[i], Q_i_arr[i], Q_o_arr[i])) for i in range(len(r_i_arr))]"
   ]
  },
  {
   "cell_type": "markdown",
   "metadata": {},
   "source": [
    "## 2) Loop through pressure drops\n",
    "\n",
    "Inner stream will be set at a certain value and the pressure drop down the observation capillary will be varied. The required flow rates are determined below."
   ]
  },
  {
   "cell_type": "code",
   "execution_count": 3,
   "metadata": {},
   "outputs": [],
   "source": [
    "### USER PARAMETERS ###\n",
    "# desired radii of the inner stream [um]\n",
    "r_i = 30\n",
    "# pressure drop along observation capillary [bar]\n",
    "dp_arr = np.arange(40, 105, 5)"
   ]
  },
  {
   "cell_type": "markdown",
   "metadata": {},
   "source": [
    "### Setup\n",
    "\n",
    "We first calculate the flow rates we should use to produce the desired pressures with the desired inner stream radius."
   ]
  },
  {
   "cell_type": "code",
   "execution_count": 4,
   "metadata": {},
   "outputs": [
    {
     "name": "stdout",
     "output_type": "stream",
     "text": [
      "dp= 40 bar: Q_i = 74.0 uL/min, Q_o = 2532.0 uL/min\n",
      "dp= 45 bar: Q_i = 83.0 uL/min, Q_o = 2849.0 uL/min\n",
      "dp= 50 bar: Q_i = 93.0 uL/min, Q_o = 3165.0 uL/min\n",
      "dp= 55 bar: Q_i = 102.0 uL/min, Q_o = 3482.0 uL/min\n",
      "dp= 60 bar: Q_i = 111.0 uL/min, Q_o = 3799.0 uL/min\n",
      "dp= 65 bar: Q_i = 121.0 uL/min, Q_o = 4115.0 uL/min\n",
      "dp= 70 bar: Q_i = 130.0 uL/min, Q_o = 4432.0 uL/min\n",
      "dp= 75 bar: Q_i = 139.0 uL/min, Q_o = 4748.0 uL/min\n",
      "dp= 80 bar: Q_i = 149.0 uL/min, Q_o = 5065.0 uL/min\n",
      "dp= 85 bar: Q_i = 158.0 uL/min, Q_o = 5382.0 uL/min\n",
      "dp= 90 bar: Q_i = 167.0 uL/min, Q_o = 5698.0 uL/min\n",
      "dp= 95 bar: Q_i = 177.0 uL/min, Q_o = 6015.0 uL/min\n",
      "dp= 100 bar: Q_i = 186.0 uL/min, Q_o = 6331.0 uL/min\n"
     ]
    }
   ],
   "source": [
    "# initialize arrays to store inner and outer stream flow rates [mL/min]\n",
    "Q_i_arr = np.zeros_like(dp_arr)\n",
    "Q_o_arr = np.zeros_like(dp_arr)\n",
    "\n",
    "# calculate flow rates for each desired inner stream radius, given pressures at inlets (so tubing length set to 0)\n",
    "for i in range(len(dp_arr)):\n",
    "    dp = dp_arr[i]\n",
    "    Q_i_arr[i], Q_o_arr[i] = flow.get_flow_rates_ri_dp(eta, r_i, dp)\n",
    "\n",
    "# print flow rates\n",
    "ret = [print(\"dp= %d bar: Q_i = %.1f uL/min, Q_o = %.1f uL/min\" \\\n",
    "             % (dp_arr[i], Q_i_arr[i], Q_o_arr[i])) for i in range(len(dp_arr))]"
   ]
  },
  {
   "cell_type": "code",
   "execution_count": null,
   "metadata": {},
   "outputs": [],
   "source": []
  },
  {
   "cell_type": "code",
   "execution_count": null,
   "metadata": {},
   "outputs": [],
   "source": []
  },
  {
   "cell_type": "code",
   "execution_count": null,
   "metadata": {},
   "outputs": [],
   "source": []
  }
 ],
 "metadata": {
  "kernelspec": {
   "display_name": "Python 3",
   "language": "python",
   "name": "python3"
  },
  "language_info": {
   "codemirror_mode": {
    "name": "ipython",
    "version": 3
   },
   "file_extension": ".py",
   "mimetype": "text/x-python",
   "name": "python",
   "nbconvert_exporter": "python",
   "pygments_lexer": "ipython3",
   "version": "3.6.5"
  }
 },
 "nbformat": 4,
 "nbformat_minor": 2
}
