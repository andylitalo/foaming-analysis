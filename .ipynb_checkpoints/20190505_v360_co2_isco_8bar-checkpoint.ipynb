{
 "cells": [
  {
   "cell_type": "markdown",
   "metadata": {},
   "source": [
    "# Foaming of CO2 in Polyol with ISCO Pump Setup\n",
    "\n",
    "In this experiment I am testing out the setup I proposed for studying foaming with the ISCO pumps. I am keeping the pressure low (~110 psig) because I have not invested in a high-pressure (1000s psi) regulator to load polyol-co2 mixtures into the ISCO 100 DM, so I am limited to the pressure of wall nitrogen."
   ]
  },
  {
   "cell_type": "code",
   "execution_count": 2,
   "metadata": {},
   "outputs": [],
   "source": [
    "import flow\n",
    "\n",
    "# USER PARAMETERS\n",
    "# Fluid\n",
    "eta = 3.9 # viscosity [Pa.s] (3600 cks = 3600*density cP = 3.6*1.084 Pa.s)\n",
    "p_sat = 8 # saturation pressure of polyol-co2 mixture [bar]\n",
    "r_i = 30 # inner stream radius [um]\n",
    "# Instrumentation\n",
    "l_inner_cap = 2.4 # [cm]\n",
    "r_inner_cap = 200 # inner radius [um]\n",
    "l_tube_i = 50 # length of tube to inner stream [cm]\n",
    "l_tube_o = 45 # length of tube to outer stream [cm]"
   ]
  },
  {
   "cell_type": "markdown",
   "metadata": {},
   "source": [
    "## Calculations\n",
    "\n",
    "I first calculate the required pressure in the ISCO 100 DM to sub-saturate the polyol-co2 mixture enough that it does not become supersaturated until it reaches the entrance of the microfluidic channel."
   ]
  },
  {
   "cell_type": "code",
   "execution_count": 6,
   "metadata": {},
   "outputs": [
    {
     "name": "stdout",
     "output_type": "stream",
     "text": [
      "Flow rates\n",
      "Inner stream Q_i = 5.398222822760677 uL/min. Outer stream Q_o = 183.3994126093183 uL/min.\n",
      "Pressures\n",
      "ISCO 100 DM p_i = 8.217317702759997 bar. ISCO 260 D p_o = 10.546718569741948 bar.\n",
      "Inner capillary p_inner_cap = 8.134028 bar.\n",
      "Observation capillary p_obs_cap = 8.0 bar.\n"
     ]
    }
   ],
   "source": [
    "# Calculate the inner and outer stream flow rates to produce desired inner stream radius at desired pressure drop\n",
    "Q_i, Q_o = flow.get_flow_rates_ri_dp(eta, r_i, p_sat)\n",
    "# Calculate pressures to produce these flow rates\n",
    "p_i, p_o, p_inner_cap, p_obs_cap = flow.get_pressures(eta, Q_i, Q_o,l_inner_cap=2.4, r_inner_cap=200, \n",
    "                                                 l_tube_i=l_tube_i, l_tube_o=l_tube_o)\n",
    "\n",
    "print(\"Flow rates\")\n",
    "print(\"Inner stream Q_i = {Q_i} uL/min. Outer stream Q_o = {Q_o} uL/min.\".format(Q_i=Q_i, Q_o=Q_o))\n",
    "print(\"Pressures\")\n",
    "print(\"ISCO 100 DM p_i = {p_i} bar. ISCO 260 D p_o = {p_o} bar.\".format(p_i=p_i, p_o=p_o))\n",
    "print(\"Inner capillary p_inner_cap = {p_inner_cap} bar.\".format(p_inner_cap=p_inner_cap))\n",
    "print(\"Observation capillary p_obs_cap = {p_obs_cap} bar.\".format(p_obs_cap=p_obs_cap))"
   ]
  },
  {
   "cell_type": "code",
   "execution_count": null,
   "metadata": {},
   "outputs": [],
   "source": []
  }
 ],
 "metadata": {
  "kernelspec": {
   "display_name": "Python 3",
   "language": "python",
   "name": "python3"
  },
  "language_info": {
   "codemirror_mode": {
    "name": "ipython",
    "version": 3
   },
   "file_extension": ".py",
   "mimetype": "text/x-python",
   "name": "python",
   "nbconvert_exporter": "python",
   "pygments_lexer": "ipython3",
   "version": "3.6.5"
  }
 },
 "nbformat": 4,
 "nbformat_minor": 2
}
