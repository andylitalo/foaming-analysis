{
 "cells": [
  {
   "cell_type": "markdown",
   "metadata": {},
   "source": [
    "# Calibrating Pressure Transducer\n",
    "\n",
    "Because of the large discrepancy between the expected and measured solubility in the analysis performed in 20190422_1cm_v360_co2_in_parr, I performed this experiment to check that the pressure transducer was calibrated properly for reading pressure. To do so, I filled the Parr reactor with a known mass of dry ice (CO2) and measured the pressure and counts read by the Dwyer pressure transducer as the dry ice sublimated. This experiment can also be used as an estimate of leak rate, although based on experience the leak rate varies considerably between experiments depending on how well the Parr reactor is sealed by the user."
   ]
  },
  {
   "cell_type": "code",
   "execution_count": 3,
   "metadata": {},
   "outputs": [],
   "source": [
    "import pandas as pd\n",
    "import numpy as np\n",
    "from scipy.signal import medfilt\n",
    "\n",
    "import solub\n",
    "\n",
    "# user parameters\n",
    "data_file = '../../EXPERIMENTS/co2_p_in_parr/Data/20190424-0425_co2_34-3g.csv'\n",
    "\n",
    "# save parameters\n",
    "save_folder = '../../EXPERIMENTS/co2_p_in_parr/Figures/'\n",
    "\n",
    "# analysis parameters\n",
    "kernel_size = 21 # size of kernel for median filter\n",
    "\n",
    "# plot parameters\n",
    "ax_fs = 16\n",
    "tk_fs = 12\n",
    "t_fs = 20\n",
    "lw = 2\n",
    "ms = 4\n",
    "save_prefix = '20190424_34-3g'\n",
    "title = 'Dry Ice in Parr Reactor'\n",
    "t_units = '(h)'"
   ]
  },
  {
   "cell_type": "markdown",
   "metadata": {},
   "source": [
    "## Load Data"
   ]
  },
  {
   "cell_type": "code",
   "execution_count": 4,
   "metadata": {},
   "outputs": [
    {
     "ename": "NameError",
     "evalue": "name 'medfilt' is not defined",
     "output_type": "error",
     "traceback": [
      "\u001b[1;31m---------------------------------------------------------------------------\u001b[0m",
      "\u001b[1;31mNameError\u001b[0m                                 Traceback (most recent call last)",
      "\u001b[1;32m<ipython-input-4-0560e5e9ebff>\u001b[0m in \u001b[0;36m<module>\u001b[1;34m()\u001b[0m\n\u001b[0;32m     11\u001b[0m \u001b[1;33m\u001b[0m\u001b[0m\n\u001b[0;32m     12\u001b[0m \u001b[1;31m# median filter\u001b[0m\u001b[1;33m\u001b[0m\u001b[1;33m\u001b[0m\u001b[0m\n\u001b[1;32m---> 13\u001b[1;33m \u001b[0mp\u001b[0m \u001b[1;33m=\u001b[0m \u001b[0mmedfilt\u001b[0m\u001b[1;33m(\u001b[0m\u001b[0mp\u001b[0m\u001b[1;33m,\u001b[0m \u001b[0mkernel_size\u001b[0m\u001b[1;33m=\u001b[0m\u001b[0mkernel_size\u001b[0m\u001b[1;33m)\u001b[0m\u001b[1;33m\u001b[0m\u001b[0m\n\u001b[0m\u001b[0;32m     14\u001b[0m \u001b[0mcounts\u001b[0m \u001b[1;33m=\u001b[0m \u001b[0mmedfilt\u001b[0m\u001b[1;33m(\u001b[0m\u001b[0mcounts\u001b[0m\u001b[1;33m,\u001b[0m \u001b[0mkernel_size\u001b[0m\u001b[1;33m=\u001b[0m\u001b[0mkernel_size\u001b[0m\u001b[1;33m)\u001b[0m\u001b[1;33m\u001b[0m\u001b[0m\n",
      "\u001b[1;31mNameError\u001b[0m: name 'medfilt' is not defined"
     ]
    }
   ],
   "source": [
    "# load data\n",
    "data = pd.read_csv(data_file, delimiter=',', header=0)\n",
    "p = data['p (psi)']\n",
    "T = data['T_thermo (C)']\n",
    "counts = data['p (counts)']\n",
    "t = data['t (s)'].values/3600 # s -> h\n",
    "\n",
    "# set negative pressures to zero\n",
    "neg_p = p.values < 0\n",
    "p.values[neg_p] = 0\n",
    "\n",
    "# median filter\n",
    "p = medfilt(p, kernel_size=kernel_size)\n",
    "counts = medfilt(counts, kernel_size=kernel_size)"
   ]
  },
  {
   "cell_type": "markdown",
   "metadata": {},
   "source": [
    "## Plot Data"
   ]
  },
  {
   "cell_type": "code",
   "execution_count": null,
   "metadata": {},
   "outputs": [],
   "source": [
    "# plot of pressure over entire time\n",
    "save_path = save_folder + save_prefix + '_p_full.pdf'\n",
    "plot.plot_p_vs_t(p, t, save_plot=True, save_path=save_path, t_units=t_units,\n",
    "                 title=title)"
   ]
  }
 ],
 "metadata": {
  "kernelspec": {
   "display_name": "Python 3",
   "language": "python",
   "name": "python3"
  },
  "language_info": {
   "codemirror_mode": {
    "name": "ipython",
    "version": 3
   },
   "file_extension": ".py",
   "mimetype": "text/x-python",
   "name": "python",
   "nbconvert_exporter": "python",
   "pygments_lexer": "ipython3",
   "version": "3.6.5"
  }
 },
 "nbformat": 4,
 "nbformat_minor": 2
}
